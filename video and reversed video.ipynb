{
 "cells": [
  {
   "cell_type": "markdown",
   "id": "c9abd88a",
   "metadata": {},
   "source": [
    "  - **Q1 :  play a video store all frame into a folder and then play the video in reverse order**"
   ]
  },
  {
   "cell_type": "code",
   "execution_count": 3,
   "id": "19f7147a",
   "metadata": {},
   "outputs": [],
   "source": [
    "import cv2\n",
    "import numpy as np \n",
    "cap=cv2.VideoCapture(\"Robin.mp4\")\n",
    "frame_width = int(cap.get(3))\n",
    "frame_height = int(cap.get(4))\n",
    "   \n",
    "size = (frame_width, frame_height)\n",
    "   \n",
    "i=0\n",
    "# print(cap.isOpened())\n",
    "while (cap.isOpened()):\n",
    "    ret,frame=cap.read()\n",
    "    if(ret==False):\n",
    "        break \n",
    "    else:\n",
    "#         frame_list.append(frame)\n",
    "        cv2.imshow(\"frame\",frame)\n",
    "        cv2.imwrite(\"./Images/V_Frame/robin_frame\"+str(i)+\".jpg\",frame)\n",
    "        i+=1\n",
    "        k=cv2.waitKey(10)\n",
    "        if (k==27):\n",
    "            break\n",
    "cap.release()\n",
    "cv2.destroyAllWindows()       \n",
    "        "
   ]
  },
  {
   "cell_type": "markdown",
   "id": "ae3a2948",
   "metadata": {},
   "source": [
    "##  reversed from saved frame"
   ]
  },
  {
   "cell_type": "code",
   "execution_count": 4,
   "id": "75d5fab2",
   "metadata": {},
   "outputs": [],
   "source": [
    "i=1269\n",
    "i=i-1\n",
    "#  for saving the reversed video\n",
    "# result = cv2.VideoWriter('reverse_robin.avi',cv2.VideoWriter_fourcc(*'MJPG'),10, size)\n",
    "while(i>=0):\n",
    "    frame=cv2.imread(\"./Images/V_Frame/robin_frame\"+str(i)+\".jpg\")\n",
    "#     result.write(frame)\n",
    "    i-=1       \n",
    "    cv2.imshow(\"reverse frame\",frame)\n",
    "    if(i==-1):\n",
    "        break\n",
    "    k=cv2.waitKey(20)\n",
    "    if (k==27):\n",
    "        break\n",
    "cv2.destroyAllWindows()\n",
    "    \n",
    "    \n",
    "    \n",
    "    "
   ]
  },
  {
   "cell_type": "code",
   "execution_count": null,
   "id": "308f3d81",
   "metadata": {},
   "outputs": [],
   "source": []
  }
 ],
 "metadata": {
  "kernelspec": {
   "display_name": "Python 3 (ipykernel)",
   "language": "python",
   "name": "python3"
  },
  "language_info": {
   "codemirror_mode": {
    "name": "ipython",
    "version": 3
   },
   "file_extension": ".py",
   "mimetype": "text/x-python",
   "name": "python",
   "nbconvert_exporter": "python",
   "pygments_lexer": "ipython3",
   "version": "3.8.10"
  }
 },
 "nbformat": 4,
 "nbformat_minor": 5
}
