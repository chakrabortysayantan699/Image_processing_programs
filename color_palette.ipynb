import numpy as np
import cv2
def nothing(x):
    print(x)
im=np.zeros((512,512,3),np.uint8)
wind="Color Panel"
cv2.namedWindow(wind)
blue=cv2.createTrackbar("blue",wind,0,255,nothing)
green=cv2.createTrackbar("green",wind,0,255,nothing)
red=cv2.createTrackbar("red",wind,0,255,nothing)
while(1):
    cv2.imshow(wind,im)
    b_pos=cv2.getTrackbarPos("blue",wind)
    g_pos=cv2.getTrackbarPos("green",wind)
    r_pos=cv2.getTrackbarPos("red",wind)
    im[:]=[b_pos,g_pos,r_pos]
    k=cv2.waitKey(1)
    if(k==27):
        break
cv2.destroyAllWindows()
