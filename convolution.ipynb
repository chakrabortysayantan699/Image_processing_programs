{
 "cells": [
  {
   "cell_type": "markdown",
   "id": "d0309e17",
   "metadata": {},
   "source": [
    "## covolution using identity kernel "
   ]
  },
  {
   "cell_type": "code",
   "execution_count": 5,
   "id": "327b1093",
   "metadata": {},
   "outputs": [],
   "source": [
    "import cv2\n",
    "import numpy as np \n",
    "\n",
    "img=cv2.imread(\"./Images/lena.jpg\",0)\n",
    "i_kernel=np.array([[0,0,0],[0,1,0],[0,0,0]])\n",
    "new_img=cv2.filter2D(img,-1,i_kernel)"
   ]
  },
  {
   "cell_type": "code",
   "execution_count": 4,
   "id": "095f74de",
   "metadata": {},
   "outputs": [],
   "source": [
    "cv2.imshow(\"original img\",img)\n",
    "cv2.imshow(\"indenty img\",new_img)\n",
    "cv2.waitKey()\n",
    "cv2.destroyAllWindows()"
   ]
  },
  {
   "cell_type": "markdown",
   "id": "236250f7",
   "metadata": {},
   "source": [
    "## Convolution using edge detection kernel"
   ]
  },
  {
   "cell_type": "code",
   "execution_count": 6,
   "id": "9ce59065",
   "metadata": {},
   "outputs": [],
   "source": [
    "edge_kernel=np.array([[-1,-1,-1],[-1,8,-1],[-1,-1,-1]])\n",
    "edge_image=cv2.filter2D(img,-1,edge_kernel)\n",
    "cv2.imshow(\"original img\",img)\n",
    "cv2.imshow(\"edge showing img\",edge_image)\n",
    "cv2.waitKey()\n",
    "cv2.destroyAllWindows()\n"
   ]
  },
  {
   "cell_type": "markdown",
   "id": "b4015406",
   "metadata": {},
   "source": [
    "## sharp image kernel "
   ]
  },
  {
   "cell_type": "code",
   "execution_count": null,
   "id": "6056574c",
   "metadata": {},
   "outputs": [],
   "source": [
    "sharp_kernel=np.array([[0,-1,0],[-1,5,-1],[0,-1,0]])\n",
    "sharp_image=cv2.filter2D(img,-1,sharp_kernel)\n",
    "cv2.imshow(\"original img\",img)\n",
    "cv2.imshow(\"sharp img\",sharp_image)\n",
    "cv2.waitKey()\n",
    "cv2.destroyAllWindows()"
   ]
  },
  {
   "cell_type": "markdown",
   "id": "a0b1885f",
   "metadata": {},
   "source": [
    "## K_box blur kernel"
   ]
  },
  {
   "cell_type": "code",
   "execution_count": 25,
   "id": "c5b13eac",
   "metadata": {},
   "outputs": [],
   "source": [
    "k_box_kernel=np.ones((3,3),np.float32)/9\n",
    "k_blur_image=cv2.filter2D(img,-1,k_box_kernel)\n",
    "cv2.imwrite(\"./Images/k_blur.jpg\",k_blur_image)\n",
    "cv2.imshow(\"original img\",img)\n",
    "cv2.imshow(\"k_box_blur img\",k_blur_image)\n",
    "cv2.waitKey()\n",
    "cv2.destroyAllWindows()"
   ]
  },
  {
   "cell_type": "markdown",
   "id": "c8a903a9",
   "metadata": {},
   "source": [
    "## gaussian bluring"
   ]
  },
  {
   "cell_type": "code",
   "execution_count": 2,
   "id": "a20b8d6f",
   "metadata": {},
   "outputs": [],
   "source": [
    "gaussian_blur_kernel=np.array([[1,4,6,4,1],[4,16,24,16,4],[6,24,36,24,6],[4,16,24,16,4],\n",
    "                               [1,4,6,4,1]])/256\n",
    "gaussian_blur_image=cv2.filter2D(img,-1,gaussian_blur_kernel)\n",
    "cv2.imwrite(\"./Images/gaussian_blur.jpg\",gaussian_blur_image)\n",
    "cv2.imshow(\"original img\",img)\n",
    "cv2.imshow(\"gaussian blur img\",gaussian_blur_image)\n",
    "cv2.waitKey()\n",
    "cv2.destroyAllWindows()\n"
   ]
  },
  {
   "cell_type": "code",
   "execution_count": 6,
   "id": "687a80ed",
   "metadata": {},
   "outputs": [],
   "source": [
    "from scipy.ndimage import convolve\n",
    "a=convolve(img,gaussian_blur_kernel)"
   ]
  },
  {
   "cell_type": "code",
   "execution_count": 7,
   "id": "55f25a6b",
   "metadata": {},
   "outputs": [],
   "source": [
    "cv2.imshow(\"gaussian blur img\",a)\n",
    "cv2.waitKey()\n",
    "cv2.destroyAllWindows()"
   ]
  },
  {
   "cell_type": "code",
   "execution_count": 8,
   "id": "662d29b0",
   "metadata": {},
   "outputs": [
    {
     "data": {
      "text/plain": [
       "array([[0.00390625, 0.015625  , 0.0234375 , 0.015625  , 0.00390625],\n",
       "       [0.015625  , 0.0625    , 0.09375   , 0.0625    , 0.015625  ],\n",
       "       [0.0234375 , 0.09375   , 0.140625  , 0.09375   , 0.0234375 ],\n",
       "       [0.015625  , 0.0625    , 0.09375   , 0.0625    , 0.015625  ],\n",
       "       [0.00390625, 0.015625  , 0.0234375 , 0.015625  , 0.00390625]])"
      ]
     },
     "execution_count": 8,
     "metadata": {},
     "output_type": "execute_result"
    }
   ],
   "source": [
    "gaussian_blur_kernel"
   ]
  },
  {
   "cell_type": "code",
   "execution_count": null,
   "id": "646be8cd",
   "metadata": {},
   "outputs": [],
   "source": []
  }
 ],
 "metadata": {
  "kernelspec": {
   "display_name": "Python 3 (ipykernel)",
   "language": "python",
   "name": "python3"
  },
  "language_info": {
   "codemirror_mode": {
    "name": "ipython",
    "version": 3
   },
   "file_extension": ".py",
   "mimetype": "text/x-python",
   "name": "python",
   "nbconvert_exporter": "python",
   "pygments_lexer": "ipython3",
   "version": "3.8.10"
  }
 },
 "nbformat": 4,
 "nbformat_minor": 5
}
