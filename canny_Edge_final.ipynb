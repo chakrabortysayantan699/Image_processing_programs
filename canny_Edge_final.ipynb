{
 "cells": [
  {
   "cell_type": "code",
   "execution_count": 1,
   "id": "79429654",
   "metadata": {},
   "outputs": [],
   "source": [
    "#importing libary\n",
    "import cv2\n",
    "import numpy as np\n"
   ]
  },
  {
   "cell_type": "code",
   "execution_count": 2,
   "id": "dc700464",
   "metadata": {},
   "outputs": [],
   "source": [
    "img=cv2.imread(\"./Images/lena.jpg\",0)\n",
    "gaussian=np.array(([1,2,1],[2,4,2],[1,2,1]))/16\n",
    "img_1=cv2.filter2D(img,-1,gaussian)"
   ]
  },
  {
   "cell_type": "code",
   "execution_count": 3,
   "id": "4a489a44",
   "metadata": {},
   "outputs": [],
   "source": [
    "cv2.imshow(\"filter\",img_1)\n",
    "cv2.waitKey(0)\n",
    "cv2.destroyAllWindows()"
   ]
  },
  {
   "cell_type": "code",
   "execution_count": 4,
   "id": "517a52cb",
   "metadata": {},
   "outputs": [],
   "source": [
    "sobelx=cv2.Sobel(np.float32(img_1),cv2.CV_64F,1,0,5)\n",
    "sobely=cv2.Sobel(np.float32(img_1),cv2.CV_64F,0,1,5)\n",
    "mag,ang=cv2.cartToPolar(sobelx,sobely,angleInDegrees=True)"
   ]
  },
  {
   "cell_type": "code",
   "execution_count": 5,
   "id": "ab197598",
   "metadata": {},
   "outputs": [],
   "source": [
    "m,n=mag.shape\n",
    "for i in range(m):\n",
    "    for j in range(n):\n",
    "        direction=ang[i,j]\n",
    "        if(abs(direction)>180):\n",
    "            direction=abs(direction-180)\n",
    "#         direction = abs(direction-180) if abs(direction)>180 else abs(direction)\n",
    "        if(direction<=22.5):\n",
    "            i_x,i_y=i-1,j\n",
    "            j_x,j_y=i+1,j\n",
    "        elif(direction>22.5) and direction<=(22.5+45):\n",
    "            i_x,i_y=i-1,j-1\n",
    "            j_x,j_y=i+1,j+1\n",
    "        elif(direction>(22.5+45)) and direction<=(22.5+90):\n",
    "            i_x,i_y=i,j-1\n",
    "            j_x,j_y=i,j+1\n",
    "        elif(direction>(22.5+90)) and direction<=(22.5+135):\n",
    "            i_x,i_y=i+1,j-1\n",
    "            j_x,j_y=i-1,j+1\n",
    "        elif(direction>(22.5+135)) and direction<=(22.5+180):\n",
    "            i_x,i_y=i+1,j\n",
    "            j_x,j_y=i-1,j\n",
    "        if(m>i_x>=0)and (n>i_y>=0):\n",
    "            if(mag[i,j]<mag[i_x,i_y]):\n",
    "                mag[i,j]=0\n",
    "                continue\n",
    "        if(m>j_x>=0)and (n>j_y>=0):\n",
    "            if(mag[i,j]<mag[j_x,j_y]):\n",
    "                mag[i,j]=0    \n",
    "            "
   ]
  },
  {
   "cell_type": "code",
   "execution_count": 6,
   "id": "a86d1dc1",
   "metadata": {},
   "outputs": [],
   "source": [
    "cv2.imshow(\"filter\",mag)\n",
    "cv2.waitKey(0)\n",
    "cv2.destroyAllWindows()"
   ]
  },
  {
   "cell_type": "code",
   "execution_count": 7,
   "id": "1b410e25",
   "metadata": {},
   "outputs": [
    {
     "data": {
      "text/plain": [
       "array([[  0.        ,   0.        ,   0.        , ...,   0.        ,\n",
       "          0.        ,   0.        ],\n",
       "       [  0.        ,   0.        ,   4.        , ...,   0.        ,\n",
       "          0.        , 140.        ],\n",
       "       [  0.        ,   0.        ,  11.04536102, ...,   0.        ,\n",
       "        305.08031729,   0.        ],\n",
       "       ...,\n",
       "       [  0.        ,  13.03840481,   0.        , ..., 106.52699188,\n",
       "          0.        ,  74.        ],\n",
       "       [  0.        ,  15.62049935,  12.72792206, ...,   0.        ,\n",
       "          0.        ,  46.        ],\n",
       "       [  0.        ,   0.        ,   0.        , ...,  64.        ,\n",
       "         28.        ,   0.        ]])"
      ]
     },
     "execution_count": 7,
     "metadata": {},
     "output_type": "execute_result"
    }
   ],
   "source": [
    "mag"
   ]
  },
  {
   "cell_type": "code",
   "execution_count": 8,
   "id": "e18acf55",
   "metadata": {},
   "outputs": [
    {
     "data": {
      "text/plain": [
       "array([[  0.        ,   0.        ,   0.        , ...,   0.        ,\n",
       "        180.        ,   0.        ],\n",
       "       [270.        , 251.56132507, 270.        , ..., 288.81576538,\n",
       "        242.89465332, 270.        ],\n",
       "       [270.        , 251.56132507, 264.80636597, ..., 262.84716797,\n",
       "        253.81976318, 270.        ],\n",
       "       ...,\n",
       "       [270.        , 327.53448486, 323.1362915 , ...,  50.33123016,\n",
       "         60.33511353,  90.        ],\n",
       "       [270.        , 320.19302368, 315.009552  , ...,  42.32509232,\n",
       "         56.82791519,  90.        ],\n",
       "       [  0.        ,   0.        ,   0.        , ...,   0.        ,\n",
       "          0.        ,   0.        ]])"
      ]
     },
     "execution_count": 8,
     "metadata": {},
     "output_type": "execute_result"
    }
   ],
   "source": [
    "ang"
   ]
  },
  {
   "cell_type": "code",
   "execution_count": 9,
   "id": "a0031c7b",
   "metadata": {},
   "outputs": [],
   "source": [
    "weak_th = None\n",
    "strong_th = None\n",
    "max_mag=np.max(mag)\n",
    "if not weak_th:\n",
    "    weak_th=max_mag*0.09\n",
    "if not strong_th:\n",
    "    strong_th=max_mag*0.5"
   ]
  },
  {
   "cell_type": "code",
   "execution_count": 10,
   "id": "9bd04817",
   "metadata": {},
   "outputs": [],
   "source": [
    "for i in range(m):\n",
    "    for j in range (n):\n",
    "        grad_m=mag[i,j]\n",
    "        if(grad_m<weak_th):\n",
    "            mag[i,j]=0"
   ]
  },
  {
   "cell_type": "code",
   "execution_count": 11,
   "id": "395e1cdf",
   "metadata": {},
   "outputs": [],
   "source": [
    "cv2.imshow(\"filter\",mag)\n",
    "cv2.waitKey(0)\n",
    "cv2.destroyAllWindows()"
   ]
  },
  {
   "cell_type": "code",
   "execution_count": null,
   "id": "5148bbb7",
   "metadata": {},
   "outputs": [],
   "source": []
  },
  {
   "cell_type": "code",
   "execution_count": null,
   "id": "c02f83ff",
   "metadata": {},
   "outputs": [],
   "source": []
  }
 ],
 "metadata": {
  "kernelspec": {
   "display_name": "Python 3 (ipykernel)",
   "language": "python",
   "name": "python3"
  },
  "language_info": {
   "codemirror_mode": {
    "name": "ipython",
    "version": 3
   },
   "file_extension": ".py",
   "mimetype": "text/x-python",
   "name": "python",
   "nbconvert_exporter": "python",
   "pygments_lexer": "ipython3",
   "version": "3.8.10"
  }
 },
 "nbformat": 4,
 "nbformat_minor": 5
}
